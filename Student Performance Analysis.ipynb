{
 "cells": [
  {
   "cell_type": "markdown",
   "id": "1bf3a737",
   "metadata": {},
   "source": [
    "# Imports"
   ]
  },
  {
   "cell_type": "code",
   "execution_count": null,
   "id": "1d14e0db",
   "metadata": {},
   "outputs": [],
   "source": [
    "import numpy as np\n",
    "import pandas as pd\n",
    "import seaborn as sns\n",
    "import matplotlib.pyplot as plt\n",
    "\n",
    "from sklearn.model_selection import train_test_split, cross_val_score\n",
    "from sklearn.ensemble import RandomForestRegressor\n",
    "from sklearn.pipeline import Pipeline\n",
    "from sklearn.compose import ColumnTransformer\n",
    "from sklearn.metrics import mean_absolute_error\n",
    "from sklearn.impute import SimpleImputer\n",
    "from sklearn.preprocessing import OneHotEncoder, StandardScaler"
   ]
  },
  {
   "cell_type": "markdown",
   "id": "828bafb6",
   "metadata": {},
   "source": [
    "# Uploading the dataset and Inspecting"
   ]
  },
  {
   "cell_type": "code",
   "execution_count": null,
   "id": "040f8773",
   "metadata": {},
   "outputs": [],
   "source": [
    "\n",
    "df = pd.read_csv(\"StudentsPerformance2.csv\")\n",
    "df.head()"
   ]
  },
  {
   "cell_type": "markdown",
   "id": "0ba1b5df",
   "metadata": {},
   "source": [
    "Inspecting the first 5 rows of the data"
   ]
  },
  {
   "cell_type": "code",
   "execution_count": null,
   "id": "b18636fb",
   "metadata": {
    "scrolled": false
   },
   "outputs": [],
   "source": [
    "df.describe(include = 'all')"
   ]
  },
  {
   "cell_type": "markdown",
   "id": "473df743",
   "metadata": {},
   "source": [
    "Checking the more info about the data"
   ]
  },
  {
   "cell_type": "code",
   "execution_count": null,
   "id": "61765fec",
   "metadata": {},
   "outputs": [],
   "source": [
    "df.info()"
   ]
  },
  {
   "cell_type": "markdown",
   "id": "ab109adc",
   "metadata": {},
   "source": [
    "Inspecting the data types"
   ]
  },
  {
   "cell_type": "code",
   "execution_count": null,
   "id": "7d3bedbf",
   "metadata": {},
   "outputs": [],
   "source": [
    "df.columns.unique()"
   ]
  },
  {
   "cell_type": "markdown",
   "id": "b80cc9f2",
   "metadata": {},
   "source": [
    "# Cleaning the data"
   ]
  },
  {
   "cell_type": "code",
   "execution_count": null,
   "id": "d1f8128a",
   "metadata": {},
   "outputs": [],
   "source": [
    "df.isnull().sum()"
   ]
  },
  {
   "cell_type": "markdown",
   "id": "a42b36fa",
   "metadata": {},
   "source": [
    "checking missing values and it appears none are missing"
   ]
  },
  {
   "cell_type": "code",
   "execution_count": null,
   "id": "5ab552a2",
   "metadata": {},
   "outputs": [],
   "source": [
    "df.duplicated().sum()"
   ]
  },
  {
   "cell_type": "markdown",
   "id": "2548ad5f",
   "metadata": {},
   "source": [
    "Checking for duplicates and it appears none are duplicated"
   ]
  },
  {
   "cell_type": "markdown",
   "id": "d8f2f773",
   "metadata": {},
   "source": [
    "# Visualise Relationships"
   ]
  },
  {
   "cell_type": "code",
   "execution_count": null,
   "id": "70c48c44",
   "metadata": {},
   "outputs": [],
   "source": [
    "sns.boxplot(x = 'gender', y = 'math score', data = df)\n",
    "plt.title(\"Math Score by Gender\")\n",
    "plt.show()"
   ]
  },
  {
   "cell_type": "markdown",
   "id": "2170f4d2",
   "metadata": {},
   "source": [
    "We can see that males are more consistent and higher scores in math than girls. Also girls have a lot of outliers"
   ]
  },
  {
   "cell_type": "code",
   "execution_count": null,
   "id": "d29b1d69",
   "metadata": {},
   "outputs": [],
   "source": [
    "sns.boxplot(x='gender', y='writing score', data = df)\n",
    "plt.title(\"Writing Score by Gender\")\n",
    "plt.show()"
   ]
  },
  {
   "cell_type": "markdown",
   "id": "906574c5",
   "metadata": {},
   "source": [
    "Females scored higher with a lot of outliers while males are consistent but lower scores"
   ]
  },
  {
   "cell_type": "code",
   "execution_count": null,
   "id": "be127dae",
   "metadata": {},
   "outputs": [],
   "source": [
    "sns.boxplot(x='gender', y='reading score', data=df)\n",
    "plt.title(\"Reading Score by Gender\")\n",
    "plt.show()"
   ]
  },
  {
   "cell_type": "markdown",
   "id": "267286e0",
   "metadata": {},
   "source": [
    "Females scored higher than males in reading"
   ]
  },
  {
   "cell_type": "code",
   "execution_count": null,
   "id": "95e3668b",
   "metadata": {},
   "outputs": [],
   "source": [
    "sns.barplot(x = 'parental level of education', y = 'math score', data = df)\n",
    "plt.xticks(rotation=45)\n",
    "plt.title(\"Math Score by Parental Education\")\n",
    "plt.show()"
   ]
  },
  {
   "cell_type": "markdown",
   "id": "713a10b7",
   "metadata": {},
   "source": [
    "Both master's degree and bachelor's degree parents have children with better scores in math. High school being the lowest"
   ]
  },
  {
   "cell_type": "code",
   "execution_count": null,
   "id": "7a6dea57",
   "metadata": {},
   "outputs": [],
   "source": [
    "sns.barplot(x = 'parental level of education', y = 'writing score', data = df)\n",
    "plt.xticks(rotation=45)\n",
    "plt.title(\"Writing Score by Parental Education\")\n",
    "plt.show()"
   ]
  },
  {
   "cell_type": "markdown",
   "id": "3e891b38",
   "metadata": {},
   "source": [
    "We can see the master's here has the highest score"
   ]
  },
  {
   "cell_type": "code",
   "execution_count": null,
   "id": "59e3d64c",
   "metadata": {},
   "outputs": [],
   "source": [
    "sns.barplot(x = 'parental level of education', y = 'reading score', data = df)\n",
    "plt.xticks(rotation=45)\n",
    "plt.title(\"Reading Score by Parental Education\")\n",
    "plt.show()"
   ]
  },
  {
   "cell_type": "markdown",
   "id": "d0d9e8e0",
   "metadata": {},
   "source": [
    "Again master's degree scored the highest"
   ]
  },
  {
   "cell_type": "code",
   "execution_count": null,
   "id": "2e3001a0",
   "metadata": {},
   "outputs": [],
   "source": [
    "numeric_features = ['math score', 'reading score', 'writing score']\n",
    "df['average score'] = df[numeric_features].mean(axis = 1)\n",
    "df.head()"
   ]
  },
  {
   "cell_type": "markdown",
   "id": "d04cd7fb",
   "metadata": {},
   "source": [
    "Creating a new feature to have better insights on the total score"
   ]
  },
  {
   "cell_type": "code",
   "execution_count": null,
   "id": "7c46138b",
   "metadata": {},
   "outputs": [],
   "source": [
    "sns.boxplot(x = 'gender', y = 'average score', data = df)\n",
    "plt.title(\"Average score by gender\")\n",
    "plt.show()"
   ]
  },
  {
   "cell_type": "markdown",
   "id": "4c3c5a3d",
   "metadata": {},
   "source": [
    "The average scores of females is higher than that of males but with outliers while the male score is more consistent"
   ]
  },
  {
   "cell_type": "code",
   "execution_count": null,
   "id": "116785d9",
   "metadata": {},
   "outputs": [],
   "source": [
    "sns.barplot(x = 'parental level of education', y = 'average score', data = df)\n",
    "plt.xticks(rotation = 45)\n",
    "plt.title(\"Average score by Parental Education\")\n",
    "plt.show()"
   ]
  },
  {
   "cell_type": "markdown",
   "id": "a1c3b37e",
   "metadata": {},
   "source": [
    "The average score of master's still being the highest followed by bachelor's and high school still being the lowest score"
   ]
  },
  {
   "cell_type": "markdown",
   "id": "567a7879",
   "metadata": {},
   "source": [
    "# Training a Regression Model"
   ]
  },
  {
   "cell_type": "code",
   "execution_count": null,
   "id": "afed14f6",
   "metadata": {},
   "outputs": [],
   "source": [
    "categorical_features = ['gender', 'race/ethnicity', 'parental level of education', 'lunch',\n",
    "       'test preparation course']\n",
    "\n",
    "target = 'average score'\n",
    "X = df[categorical_features + numeric_features]\n",
    "y = df[target]"
   ]
  },
  {
   "cell_type": "markdown",
   "id": "4800fe7a",
   "metadata": {},
   "source": [
    "Splitting the features"
   ]
  },
  {
   "cell_type": "code",
   "execution_count": null,
   "id": "57df377c",
   "metadata": {},
   "outputs": [],
   "source": [
    "numeric_pipeline = Pipeline([\n",
    "    (\"imputer\", SimpleImputer(strategy=\"mean\"))\n",
    "])\n",
    "\n",
    "categorical_pipeline = Pipeline([\n",
    "    (\"imputer\", SimpleImputer(strategy=\"most_frequent\")),\n",
    "    (\"encoder\", OneHotEncoder(drop=\"first\", handle_unknown=\"ignore\"))\n",
    "])\n",
    "\n",
    "preprocessor = ColumnTransformer([\n",
    "    (\"num\", numeric_pipeline, numeric_features),\n",
    "    (\"cat\", categorical_pipeline, categorical_features)\n",
    "])\n",
    "\n",
    "pipeline = Pipeline([\n",
    "    (\"preprocess\", preprocessor),\n",
    "    (\"model\", RandomForestRegressor(random_state=1))\n",
    "])"
   ]
  },
  {
   "cell_type": "markdown",
   "id": "cb1f5e77",
   "metadata": {},
   "source": [
    "Creating pipeline for automation"
   ]
  },
  {
   "cell_type": "code",
   "execution_count": null,
   "id": "8f1a9753",
   "metadata": {},
   "outputs": [],
   "source": [
    "X_train, X_val, y_train, y_val = train_test_split(X, y, random_state=1)\n",
    "\n",
    "pipeline.fit(X_train, y_train)\n",
    "predictions = pipeline.predict(X_val)\n",
    "mae = mean_absolute_error(y_val, predictions)\n",
    "print(\"MAE:\", mae)"
   ]
  },
  {
   "cell_type": "markdown",
   "id": "1c3b6c6a",
   "metadata": {},
   "source": [
    "Trained the model on the data and used the predictions to calculate mean absolute error. It gave us an error of 0.53 when calculating average scores which is very good considering we didn't normalise the data and the score is from 0 to 100. If we wanted to improve the model, cross-validation will lower the error furthermore"
   ]
  },
  {
   "cell_type": "code",
   "execution_count": null,
   "id": "5bef5425",
   "metadata": {},
   "outputs": [],
   "source": [
    "scores = cross_val_score(pipeline, X, y,\n",
    "                         scoring='neg_mean_absolute_error',\n",
    "                         cv=5)\n",
    "\n",
    "# Convert negative scores to positive MAE\n",
    "mae_scores = -scores\n",
    "\n",
    "print(\"MAE scores for each fold:\", mae_scores)\n",
    "print(\"Average MAE:\", mae_scores.mean())"
   ]
  },
  {
   "cell_type": "markdown",
   "id": "5c6b3bf9",
   "metadata": {},
   "source": [
    "The mean absolute error decreased by 0.03 after we used cross-validation so it didn't matter that much and because the error is so minimal, normalising the data won't affect that much as well"
   ]
  }
 ],
 "metadata": {
  "kernelspec": {
   "display_name": "Python 3 (ipykernel)",
   "language": "python",
   "name": "python3"
  },
  "language_info": {
   "codemirror_mode": {
    "name": "ipython",
    "version": 3
   },
   "file_extension": ".py",
   "mimetype": "text/x-python",
   "name": "python",
   "nbconvert_exporter": "python",
   "pygments_lexer": "ipython3",
   "version": "3.9.13"
  }
 },
 "nbformat": 4,
 "nbformat_minor": 5
}
